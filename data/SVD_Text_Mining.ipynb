{
 "cells": [
  {
   "cell_type": "markdown",
   "metadata": {},
   "source": [
    "# SVD Text Mining (Unsupervised Machine Learning)"
   ]
  },
  {
   "cell_type": "code",
   "execution_count": 1,
   "metadata": {
    "collapsed": true
   },
   "outputs": [],
   "source": [
    "import numpy as np\n",
    "import pickle\n",
    "from sklearn.feature_extraction.text import TfidfVectorizer"
   ]
  },
  {
   "cell_type": "markdown",
   "metadata": {},
   "source": [
    "### Loading Data"
   ]
  },
  {
   "cell_type": "code",
   "execution_count": 16,
   "metadata": {
    "collapsed": true
   },
   "outputs": [],
   "source": [
    "\"\"\"\n",
    "Class Represetning the information of a product\n",
    "\"\"\"\n",
    "class Product:\n",
    "  def __init__(self, name, brand, brand_id, image, description, price, category):\n",
    "    self.name = name\n",
    "    self.brand = brand\n",
    "    self.brand_id = brand_id\n",
    "    self.image = image\n",
    "    self.description = description\n",
    "    self.price = price\n",
    "    self.category = category\n",
    "    self.reviews = []\n",
    "\n",
    "  def rating(self):\n",
    "    total_score = 0\n",
    "    for review in self.reviews:\n",
    "      total_score += review.rating\n",
    "    return total_score / len(self.reviews)\n",
    "\n",
    "\"\"\"\n",
    "Class Represetning the information of a review\n",
    "\"\"\"\n",
    "class Review:\n",
    "  def __init__(self, text, rating, skin_type, skin_concerns):\n",
    "    self.text = text\n",
    "    self.rating = rating\n",
    "    self.skin_type = skin_type\n",
    "    self.skin_concerns = skin_concerns\n",
    "\n",
    "class CustomUnpickler(pickle.Unpickler):\n",
    "\tdef find_class(self, module, name):\n",
    "\t\tif name == 'Product':\n",
    "\t\t\treturn Product\n",
    "\t\tif name == 'Review':\n",
    "\t\t\treturn Review\n",
    "\t\treturn super().find_class(module, name)\n",
    "\n",
    "# load data\n",
    "data = CustomUnpickler(open('data.p', 'rb')).load()\n",
    "product_dict = data['product_dict']\n",
    "category_dict = data['category_dict']\n",
    "brand_dict = data['brand_dict']\n",
    "brand_id_dict = data['brand_id_dict']\n",
    "vectorizer = data['vectorizer']\n",
    "id_to_idx = data['id_to_idx']\n",
    "prod_vocab_mat = data['prod_vocab_mat'].transpose()"
   ]
  },
  {
   "cell_type": "markdown",
   "metadata": {},
   "source": [
    "### How many dimensions does our data live in?"
   ]
  },
  {
   "cell_type": "code",
   "execution_count": 17,
   "metadata": {
    "collapsed": true
   },
   "outputs": [],
   "source": [
    "from scipy.sparse.linalg import svds\n",
    "u, s, v_trans = svds(prod_vocab_mat, k=100)"
   ]
  },
  {
   "cell_type": "code",
   "execution_count": 18,
   "metadata": {},
   "outputs": [
    {
     "name": "stdout",
     "output_type": "stream",
     "text": [
      "(5000, 1492)\n",
      "(5000, 100)\n",
      "(100,)\n",
      "(100, 1492)\n"
     ]
    }
   ],
   "source": [
    "print(prod_vocab_mat.shape)\n",
    "print(u.shape)\n",
    "print(s.shape)\n",
    "print(v_trans.shape)"
   ]
  },
  {
   "cell_type": "code",
   "execution_count": 19,
   "metadata": {},
   "outputs": [
    {
     "data": {
      "image/png": "[encoded data removed]",
      "text/plain": [
       "<Figure size 432x288 with 1 Axes>"
      ]
     },
     "metadata": {
      "needs_background": "light"
     },
     "output_type": "display_data"
    }
   ],
   "source": [
    "import matplotlib\n",
    "import numpy as np\n",
    "import matplotlib.pyplot as plt\n",
    "%matplotlib inline\n",
    "plt.plot(s[::-1])\n",
    "plt.xlabel(\"Singular value number\")\n",
    "plt.ylabel(\"Singular value\")\n",
    "plt.show()"
   ]
  },
  {
   "cell_type": "markdown",
   "metadata": {
    "collapsed": true
   },
   "source": [
    "### Looks data lives in about 30 dimensions, take 50 to be safe"
   ]
  },
  {
   "cell_type": "code",
   "execution_count": 36,
   "metadata": {},
   "outputs": [],
   "source": [
    "words_compressed, _, docs_compressed = svds(prod_vocab_mat, k=50)\n",
    "docs_compressed = docs_compressed.transpose()"
   ]
  },
  {
   "cell_type": "code",
   "execution_count": 37,
   "metadata": {},
   "outputs": [
    {
     "name": "stdout",
     "output_type": "stream",
     "text": [
      "(5000, 50)\n",
      "(1492, 50)\n"
     ]
    }
   ],
   "source": [
    "print(words_compressed.shape)\n",
    "print(docs_compressed.shape)"
   ]
  },
  {
   "cell_type": "code",
   "execution_count": 38,
   "metadata": {},
   "outputs": [
    {
     "name": "stdout",
     "output_type": "stream",
     "text": [
      "(5000, 50)\n"
     ]
    }
   ],
   "source": [
    "word_to_index = vectorizer.vocabulary_\n",
    "index_to_word = {i:t for t,i in word_to_index.items()}\n",
    "print(words_compressed.shape)"
   ]
  },
  {
   "cell_type": "code",
   "execution_count": 39,
   "metadata": {
    "collapsed": true
   },
   "outputs": [],
   "source": [
    "#row normalize\n",
    "from sklearn.preprocessing import normalize\n",
    "words_compressed = normalize(words_compressed, axis = 1)"
   ]
  },
  {
   "cell_type": "code",
   "execution_count": 40,
   "metadata": {
    "collapsed": true
   },
   "outputs": [],
   "source": [
    "def closest_words(word_in, k = 10):\n",
    "    if word_in not in word_to_index: return \"Not in vocab.\"\n",
    "    sims = words_compressed.dot(words_compressed[word_to_index[word_in],:])\n",
    "    asort = np.argsort(-sims)[:k+1]\n",
    "    return [(index_to_word[i],sims[i]/sims[asort[0]]) for i in asort[1:]]"
   ]
  },
  {
   "cell_type": "code",
   "execution_count": 41,
   "metadata": {},
   "outputs": [
    {
     "data": {
      "text/plain": [
       "[('hydrated', 0.8545078710928079),\n",
       " ('hydrate', 0.8061315161165756),\n",
       " ('hydration', 0.8052614890510366),\n",
       " ('hydrates', 0.7947853366486191),\n",
       " ('dehydrated', 0.7423670901760779),\n",
       " ('moisturizing', 0.711995840656036),\n",
       " ('extremely', 0.7013124855394793),\n",
       " ('drank', 0.701138295875233),\n",
       " ('moisture', 0.6941020385510934),\n",
       " ('driest', 0.6763073723035582)]"
      ]
     },
     "execution_count": 41,
     "metadata": {},
     "output_type": "execute_result"
    }
   ],
   "source": [
    "closest_words('hydrating')"
   ]
  },
  {
   "cell_type": "markdown",
   "metadata": {},
   "source": [
    "### Search for similar products"
   ]
  },
  {
   "cell_type": "code",
   "execution_count": 42,
   "metadata": {
    "collapsed": true
   },
   "outputs": [],
   "source": [
    "docs_compressed = normalize(docs_compressed, axis = 1)\n",
    "def closest_products(project_index_in, k = 5):\n",
    "    sims = docs_compressed.dot(docs_compressed[project_index_in,:])\n",
    "    asort = np.argsort(-sims)[:k+1]\n",
    "    return [(list(product_dict.keys())[i] ,sims[i]/sims[asort[0]]) for i in asort[1:]]"
   ]
  },
  {
   "cell_type": "code",
   "execution_count": 43,
   "metadata": {},
   "outputs": [
    {
     "name": "stdout",
     "output_type": "stream",
     "text": [
      "[('P415979', 0.6663078137563629), ('P379707', 0.6654513112875254), ('P440981', 0.6529109750742108), ('P400206', 0.627044832675047), ('P422012', 0.6204320403517511)]\n"
     ]
    }
   ],
   "source": [
    "print(closest_products(0))"
   ]
  },
  {
   "cell_type": "code",
   "execution_count": null,
   "metadata": {
    "collapsed": true
   },
   "outputs": [],
   "source": []
  }
 ],
 "metadata": {
  "kernelspec": {
   "display_name": "venv",
   "language": "python",
   "name": "venv"
  },
  "language_info": {
   "codemirror_mode": {
    "name": "ipython",
    "version": 3
   },
   "file_extension": ".py",
   "mimetype": "text/x-python",
   "name": "python",
   "nbconvert_exporter": "python",
   "pygments_lexer": "ipython3",
   "version": "3.5.2"
  }
 },
 "nbformat": 4,
 "nbformat_minor": 2
}
